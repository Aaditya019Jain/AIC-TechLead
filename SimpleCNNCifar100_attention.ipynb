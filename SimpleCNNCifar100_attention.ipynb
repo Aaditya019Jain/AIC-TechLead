{
  "nbformat": 4,
  "nbformat_minor": 0,
  "metadata": {
    "colab": {
      "provenance": [],
      "gpuType": "T4"
    },
    "kernelspec": {
      "name": "python3",
      "display_name": "Python 3"
    },
    "language_info": {
      "name": "python"
    },
    "accelerator": "GPU"
  },
  "cells": [
    {
      "cell_type": "code",
      "execution_count": 1,
      "metadata": {
        "id": "GUq81JNtX0Yy",
        "colab": {
          "base_uri": "https://localhost:8080/"
        },
        "outputId": "b93a887b-6106-4b97-fdea-2c0d48fd1682"
      },
      "outputs": [
        {
          "output_type": "stream",
          "name": "stdout",
          "text": [
            "Device: cuda:0\n",
            "Downloading https://www.cs.toronto.edu/~kriz/cifar-100-python.tar.gz to ./data/cifar-100-python.tar.gz\n"
          ]
        },
        {
          "output_type": "stream",
          "name": "stderr",
          "text": [
            "100%|██████████| 169001437/169001437 [00:03<00:00, 43308172.99it/s]\n"
          ]
        },
        {
          "output_type": "stream",
          "name": "stdout",
          "text": [
            "Extracting ./data/cifar-100-python.tar.gz to ./data\n",
            "Files already downloaded and verified\n",
            "[1,   200] loss: 4.014\n",
            "[1,   400] loss: 3.386\n",
            "[1,   600] loss: 3.092\n",
            "[2,   200] loss: 2.670\n",
            "[2,   400] loss: 2.621\n",
            "[2,   600] loss: 2.540\n",
            "[3,   200] loss: 2.206\n",
            "[3,   400] loss: 2.216\n",
            "[3,   600] loss: 2.199\n",
            "[4,   200] loss: 1.871\n",
            "[4,   400] loss: 1.881\n",
            "[4,   600] loss: 1.905\n",
            "[5,   200] loss: 1.516\n",
            "[5,   400] loss: 1.585\n",
            "[5,   600] loss: 1.624\n",
            "[6,   200] loss: 1.220\n",
            "[6,   400] loss: 1.283\n",
            "[6,   600] loss: 1.357\n",
            "[7,   200] loss: 0.942\n",
            "[7,   400] loss: 1.028\n",
            "[7,   600] loss: 1.082\n",
            "[8,   200] loss: 0.692\n",
            "[8,   400] loss: 0.782\n",
            "[8,   600] loss: 0.867\n",
            "[9,   200] loss: 0.504\n",
            "[9,   400] loss: 0.565\n",
            "[9,   600] loss: 0.671\n",
            "[10,   200] loss: 0.368\n",
            "[10,   400] loss: 0.422\n",
            "[10,   600] loss: 0.496\n",
            "Accuracy of the network on the 10000 test images: 37.20 %\n"
          ]
        }
      ],
      "source": [
        "import torch\n",
        "import torch.nn as nn\n",
        "import torch.nn.functional as F\n",
        "import torchvision\n",
        "import torchvision.transforms as transforms\n",
        "\n",
        "# Check if GPU is available\n",
        "device = torch.device(\"cuda:0\" if torch.cuda.is_available() else \"cpu\")\n",
        "print(\"Device:\", device)\n",
        "\n",
        "# CIFAR-10 preprocessing\n",
        "transform = transforms.Compose([\n",
        "    transforms.ToTensor(),\n",
        "    transforms.Normalize((0.5, 0.5, 0.5), (0.5, 0.5, 0.5))\n",
        "])\n",
        "\n",
        "# Load CIFAR-10 dataset\n",
        "trainset = torchvision.datasets.CIFAR100(root='./data', train=True, download=True, transform=transform)\n",
        "trainloader = torch.utils.data.DataLoader(trainset, batch_size=64, shuffle=True, num_workers=2)\n",
        "\n",
        "# Load CIFAR-10 test dataset\n",
        "testset = torchvision.datasets.CIFAR100(root='./data', train=False, download=True, transform=transform)\n",
        "testloader = torch.utils.data.DataLoader(testset, batch_size=64, shuffle=False, num_workers=2)\n",
        "\n",
        "class CNNWithoutAttention(nn.Module):\n",
        "    def __init__(self):\n",
        "        super(CNNWithoutAttention, self).__init__()\n",
        "\n",
        "        self.conv1 = nn.Conv2d(3, 64, kernel_size=3, padding=1)\n",
        "        self.conv2 = nn.Conv2d(64, 128, kernel_size=3, padding=1)\n",
        "        self.fc1 = nn.Linear(128 * 8 * 8, 512)\n",
        "        self.fc2 = nn.Linear(512, 100)\n",
        "\n",
        "    def forward(self, x):\n",
        "        x = F.relu(self.conv1(x))\n",
        "        x = F.max_pool2d(x, 2, 2)\n",
        "        x = F.relu(self.conv2(x))\n",
        "        x = F.max_pool2d(x, 2, 2)\n",
        "        x = x.view(-1, 128 * 8 * 8)\n",
        "        x = F.relu(self.fc1(x))\n",
        "        x = self.fc2(x)\n",
        "        return x\n",
        "\n",
        "# Initialize the model and move it to GPU\n",
        "model = CNNWithoutAttention().to(device)\n",
        "\n",
        "# Train the model\n",
        "def train_model(model, criterion, optimizer, num_epochs=5):\n",
        "    for epoch in range(num_epochs):\n",
        "        running_loss = 0.0\n",
        "        for i, data in enumerate(trainloader, 0):\n",
        "            inputs, labels = data[0].to(device), data[1].to(device)\n",
        "            optimizer.zero_grad()\n",
        "\n",
        "            outputs = model(inputs)\n",
        "            loss = criterion(outputs, labels)\n",
        "            loss.backward()\n",
        "            optimizer.step()\n",
        "\n",
        "            running_loss += loss.item()\n",
        "            if i % 200 == 199:  # Print every 200 mini-batches\n",
        "                print('[%d, %5d] loss: %.3f' % (epoch + 1, i + 1, running_loss / 200))\n",
        "                running_loss = 0.0\n",
        "\n",
        "# Define the loss function and optimizer\n",
        "criterion = nn.CrossEntropyLoss()\n",
        "optimizer = torch.optim.Adam(model.parameters(), lr=0.001)\n",
        "\n",
        "# Train the model\n",
        "train_model(model, criterion, optimizer, num_epochs=10)\n",
        "\n",
        "# Define a function to test the model\n",
        "def test_model(model, testloader):\n",
        "    correct = 0\n",
        "    total = 0\n",
        "    with torch.no_grad():\n",
        "        for data in testloader:\n",
        "            images, labels = data[0].to(device), data[1].to(device)\n",
        "            outputs = model(images)\n",
        "            _, predicted = torch.max(outputs.data, 1)\n",
        "            total += labels.size(0)\n",
        "            correct += (predicted == labels).sum().item()\n",
        "\n",
        "    print('Accuracy of the network on the 10000 test images: %.2f %%' % (100 * correct / total))\n",
        "\n",
        "# Test the model\n",
        "test_model(model, testloader)"
      ]
    },
    {
      "cell_type": "code",
      "source": [],
      "metadata": {
        "id": "Gc2vL94okCpH"
      },
      "execution_count": null,
      "outputs": []
    }
  ]
}